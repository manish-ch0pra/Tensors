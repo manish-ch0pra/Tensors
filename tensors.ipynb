{
  "nbformat": 4,
  "nbformat_minor": 0,
  "metadata": {
    "colab": {
      "provenance": [],
      "authorship_tag": "ABX9TyPqvwSM5u1SDckm5z2Cu8GY",
      "include_colab_link": true
    },
    "kernelspec": {
      "name": "python3",
      "display_name": "Python 3"
    },
    "language_info": {
      "name": "python"
    }
  },
  "cells": [
    {
      "cell_type": "markdown",
      "metadata": {
        "id": "view-in-github",
        "colab_type": "text"
      },
      "source": [
        "<a href=\"https://colab.research.google.com/github/manish-ch0pra/Tensors/blob/main/tensors.ipynb\" target=\"_parent\"><img src=\"https://colab.research.google.com/assets/colab-badge.svg\" alt=\"Open In Colab\"/></a>"
      ]
    },
    {
      "cell_type": "code",
      "execution_count": null,
      "metadata": {
        "id": "ppUG0HGCNTnV"
      },
      "outputs": [],
      "source": []
    },
    {
      "cell_type": "code",
      "source": [
        "import numpy as np"
      ],
      "metadata": {
        "id": "KcUmzsh-Xt2X"
      },
      "execution_count": 5,
      "outputs": []
    },
    {
      "cell_type": "code",
      "source": [
        "scalar = np.array(10)\n",
        "\n",
        "print(scalar.ndim)\n",
        "print(scalar.shape)\n",
        "print(scalar.size)"
      ],
      "metadata": {
        "colab": {
          "base_uri": "https://localhost:8080/"
        },
        "id": "RWSCK0MJXwwU",
        "outputId": "766387e0-529a-497a-a476-74341969ce50"
      },
      "execution_count": 23,
      "outputs": [
        {
          "output_type": "stream",
          "name": "stdout",
          "text": [
            "0\n",
            "()\n",
            "1\n"
          ]
        }
      ]
    },
    {
      "cell_type": "code",
      "source": [
        "oneD = np.array([1,2,3,4,5])\n",
        "\n",
        "print(oneD.ndim)\n",
        "print(oneD.shape)\n",
        "print(oneD.size)\n",
        "print(oneD[1])"
      ],
      "metadata": {
        "colab": {
          "base_uri": "https://localhost:8080/"
        },
        "id": "b9yvwzzEbmFu",
        "outputId": "baf8f504-5d67-4895-d090-c21fa8bdf23c"
      },
      "execution_count": 32,
      "outputs": [
        {
          "output_type": "stream",
          "name": "stdout",
          "text": [
            "1\n",
            "(5,)\n",
            "5\n",
            "2\n"
          ]
        }
      ]
    },
    {
      "cell_type": "code",
      "source": [
        "twoD = np.array(\n",
        "    [\n",
        "      [1,2],\n",
        "      [4,5],\n",
        "      [7,8]\n",
        "    ]\n",
        ")\n",
        "\n",
        "print(twoD.ndim)\n",
        "print(twoD.shape)\n",
        "print(twoD.size)\n",
        "print(twoD[1,0])"
      ],
      "metadata": {
        "colab": {
          "base_uri": "https://localhost:8080/"
        },
        "id": "EIB3Llunb7sZ",
        "outputId": "ed5c831b-adf2-414f-d8af-cad3defc93f7"
      },
      "execution_count": 35,
      "outputs": [
        {
          "output_type": "stream",
          "name": "stdout",
          "text": [
            "2\n",
            "(3, 2)\n",
            "6\n",
            "4\n"
          ]
        }
      ]
    },
    {
      "cell_type": "code",
      "source": [
        "threeD = np.array(\n",
        "    [\n",
        "      [\n",
        "        [1,2,3,4],\n",
        "        [5,6,7,8],\n",
        "        [9,10,11,12],\n",
        "        [13,14,15,16],\n",
        "        [17,18,19,20],\n",
        "      ],\n",
        "      [\n",
        "        [21,22,23,24],\n",
        "        [25,26,27,28],\n",
        "        [29,30,31,32],\n",
        "        [33,34,35,36],\n",
        "        [37,38,39,40]\n",
        "      ],\n",
        "      [\n",
        "        [41,42,43,44],\n",
        "        [45,46,47,48],\n",
        "        [49,50,51,52],\n",
        "        [53,54,55,56],\n",
        "        [57,58,59,60]\n",
        "      ],\n",
        "      [\n",
        "        [61,62,63,64],\n",
        "        [65,66,67,68],\n",
        "        [69,70,71,72],\n",
        "        [73,74,75,76],\n",
        "        [77,78,79,80]\n",
        "      ]\n",
        "    ]\n",
        ")\n",
        "\n",
        "print(threeD.ndim)\n",
        "print(threeD.shape)\n",
        "print(threeD.size)\n",
        "print(threeD[1,2,1])"
      ],
      "metadata": {
        "colab": {
          "base_uri": "https://localhost:8080/"
        },
        "id": "EsSEBvl7cuZA",
        "outputId": "c4d3e440-181b-4ec3-e2e8-166aeede3d20"
      },
      "execution_count": 37,
      "outputs": [
        {
          "output_type": "stream",
          "name": "stdout",
          "text": [
            "3\n",
            "(4, 5, 4)\n",
            "80\n",
            "30\n"
          ]
        }
      ]
    },
    {
      "cell_type": "code",
      "source": [
        "fourD = np.array(\n",
        "    [\n",
        "        [\n",
        "            [\n",
        "                [1, 2, 3, 4, 5],\n",
        "                [6, 7, 8, 9, 10],\n",
        "                [11, 12, 13, 14, 15],\n",
        "                [16, 17, 18, 19, 20],\n",
        "                [21, 22, 23, 24, 25],\n",
        "            ],\n",
        "            [\n",
        "                [26, 27, 28, 29, 30],\n",
        "                [31, 32, 33, 34, 35],\n",
        "                [36, 37, 38, 39, 40],\n",
        "                [41, 42, 43, 44, 45],\n",
        "                [46, 47, 48, 49, 50],\n",
        "            ],\n",
        "        ],\n",
        "        [\n",
        "            [\n",
        "                [51, 52, 53, 54, 55],\n",
        "                [56, 57, 58, 59, 60],\n",
        "                [61, 62, 63, 64, 65],\n",
        "                [66, 67, 68, 69, 70],\n",
        "                [71, 72, 73, 74, 75],\n",
        "            ],\n",
        "            [\n",
        "                [76, 77, 78, 79, 80],\n",
        "                [81, 82, 83, 84, 85],\n",
        "                [86, 87, 88, 89, 90],\n",
        "                [91, 92, 93, 94, 95],\n",
        "                [96, 97, 98, 99, 100],\n",
        "            ],\n",
        "        ],\n",
        "    ]\n",
        ")\n",
        "\n",
        "print(fourD.ndim)\n",
        "print(fourD.shape)\n",
        "print(fourD.size)\n",
        "print(fourD[0,1,1,1])\n"
      ],
      "metadata": {
        "colab": {
          "base_uri": "https://localhost:8080/"
        },
        "id": "jU2KCOhQguPW",
        "outputId": "7f95c419-ceea-4eb3-c131-de5880c96948"
      },
      "execution_count": 40,
      "outputs": [
        {
          "output_type": "stream",
          "name": "stdout",
          "text": [
            "4\n",
            "(2, 2, 5, 5)\n",
            "100\n",
            "32\n"
          ]
        }
      ]
    },
    {
      "cell_type": "code",
      "source": [
        "fiveD = np.array(\n",
        "    [\n",
        "        [\n",
        "            [\n",
        "                [\n",
        "                    [1, 2, 3],\n",
        "                    [4, 5, 6]\n",
        "                ],\n",
        "                [\n",
        "                    [7, 8, 9],\n",
        "                    [10, 11, 12]\n",
        "                ],\n",
        "            ],\n",
        "            [\n",
        "                [\n",
        "                    [13, 14, 15],\n",
        "                    [16, 17, 18]\n",
        "                ],\n",
        "                [\n",
        "                    [19, 20, 21],\n",
        "                    [21, 22, 23]\n",
        "                ],\n",
        "            ],\n",
        "        ],\n",
        "        [\n",
        "            [\n",
        "                [\n",
        "                    [24, 25, 26],\n",
        "                    [27, 28, 29]\n",
        "                ],\n",
        "                [\n",
        "                    [30, 31, 32],\n",
        "                    [33, 34, 35]\n",
        "                ],\n",
        "            ],\n",
        "            [\n",
        "                [\n",
        "                    [36, 37, 38],\n",
        "                    [39, 40, 41]\n",
        "                ],\n",
        "                [\n",
        "                    [42, 43, 44],\n",
        "                    [45, 46, 47]\n",
        "                ],\n",
        "            ],\n",
        "        ],\n",
        "    ]\n",
        ")\n",
        "\n",
        "print(fiveD.ndim)\n",
        "print(fiveD.shape)\n",
        "print(fiveD.size)\n",
        "print(fiveD[0,1,1,0,1])\n"
      ],
      "metadata": {
        "colab": {
          "base_uri": "https://localhost:8080/"
        },
        "id": "EQIRwvNBqZBj",
        "outputId": "e663d1bc-5968-49cd-e0e8-abadf1b8171c"
      },
      "execution_count": 47,
      "outputs": [
        {
          "output_type": "stream",
          "name": "stdout",
          "text": [
            "5\n",
            "(2, 2, 2, 2, 3)\n",
            "48\n",
            "20\n"
          ]
        }
      ]
    }
  ]
}