{
  "nbformat": 4,
  "nbformat_minor": 0,
  "metadata": {
    "colab": {
      "provenance": [],
      "authorship_tag": "ABX9TyMpYrmv4uvbPBZneNbHQ6Zf",
      "include_colab_link": true
    },
    "kernelspec": {
      "name": "python3",
      "display_name": "Python 3"
    },
    "language_info": {
      "name": "python"
    }
  },
  "cells": [
    {
      "cell_type": "markdown",
      "metadata": {
        "id": "view-in-github",
        "colab_type": "text"
      },
      "source": [
        "<a href=\"https://colab.research.google.com/github/manish-ch0pra/Tensors/blob/main/tensors.ipynb\" target=\"_parent\"><img src=\"https://colab.research.google.com/assets/colab-badge.svg\" alt=\"Open In Colab\"/></a>"
      ]
    },
    {
      "cell_type": "code",
      "execution_count": null,
      "metadata": {
        "id": "ppUG0HGCNTnV"
      },
      "outputs": [],
      "source": []
    },
    {
      "cell_type": "code",
      "source": [
        "import numpy as np"
      ],
      "metadata": {
        "id": "KcUmzsh-Xt2X"
      },
      "execution_count": 24,
      "outputs": []
    },
    {
      "cell_type": "code",
      "source": [
        "scalar = np.array(10)\n",
        "\n",
        "scalar.ndim"
      ],
      "metadata": {
        "colab": {
          "base_uri": "https://localhost:8080/"
        },
        "id": "RWSCK0MJXwwU",
        "outputId": "0b597736-e826-4ea9-b1cc-476bad846a66"
      },
      "execution_count": 29,
      "outputs": [
        {
          "output_type": "execute_result",
          "data": {
            "text/plain": [
              "0"
            ]
          },
          "metadata": {},
          "execution_count": 29
        }
      ]
    },
    {
      "cell_type": "code",
      "source": [
        "oneD = np.array([1,2,3,4,5])\n",
        "\n",
        "oneD.ndim"
      ],
      "metadata": {
        "colab": {
          "base_uri": "https://localhost:8080/"
        },
        "id": "b9yvwzzEbmFu",
        "outputId": "05816e7c-7409-47e0-fbd4-7d33322c74b3"
      },
      "execution_count": 31,
      "outputs": [
        {
          "output_type": "execute_result",
          "data": {
            "text/plain": [
              "1"
            ]
          },
          "metadata": {},
          "execution_count": 31
        }
      ]
    },
    {
      "cell_type": "code",
      "source": [
        "twoD = np.array(\n",
        "    [\n",
        "      [1,2,3],\n",
        "      [4,5,6],\n",
        "      [7,8,9]\n",
        "    ]\n",
        ")\n",
        "\n",
        "twoD.ndim"
      ],
      "metadata": {
        "colab": {
          "base_uri": "https://localhost:8080/"
        },
        "id": "EIB3Llunb7sZ",
        "outputId": "5e6703bd-a8cd-411d-cd57-f063bd8b19c8"
      },
      "execution_count": 44,
      "outputs": [
        {
          "output_type": "execute_result",
          "data": {
            "text/plain": [
              "2"
            ]
          },
          "metadata": {},
          "execution_count": 44
        }
      ]
    },
    {
      "cell_type": "code",
      "source": [
        "threeD = np.array(\n",
        "    [\n",
        "      [\n",
        "        [1,2,3,4],\n",
        "        [5,6,7,8],\n",
        "        [9,10,11,12],\n",
        "        [13,14,15,16],\n",
        "        [17,18,19,20],\n",
        "      ],\n",
        "      [\n",
        "        [21,22,23,24],\n",
        "        [25,26,27,28],\n",
        "        [29,30,31,32],\n",
        "        [33,34,35,36],\n",
        "        [37,38,39,40]\n",
        "      ],\n",
        "      [\n",
        "        [41,42,43,44],\n",
        "        [45,46,47,48],\n",
        "        [49,50,51,52],\n",
        "        [53,54,55,56],\n",
        "        [57,58,59,60]\n",
        "      ],\n",
        "      [\n",
        "        [61,62,63,64],\n",
        "        [65,66,67,68],\n",
        "        [69,70,71,72],\n",
        "        [73,74,75,76],\n",
        "        [77,78,79,80]\n",
        "      ]\n",
        "    ]\n",
        ")\n",
        "\n",
        "threeD.ndim"
      ],
      "metadata": {
        "colab": {
          "base_uri": "https://localhost:8080/"
        },
        "id": "EsSEBvl7cuZA",
        "outputId": "23ebd046-54bd-4d32-b0a2-fb9335527599"
      },
      "execution_count": 56,
      "outputs": [
        {
          "output_type": "execute_result",
          "data": {
            "text/plain": [
              "3"
            ]
          },
          "metadata": {},
          "execution_count": 56
        }
      ]
    },
    {
      "cell_type": "code",
      "source": [
        "fourD = np.array(\n",
        "    [\n",
        "        [\n",
        "          [\n",
        "            [1,2,3,4,5],\n",
        "            [6,7,8,9,10],\n",
        "            [11,12,13,14,15],\n",
        "            [16,17,18,19,20],\n",
        "            [21,22,23,24,25]\n",
        "          ],\n",
        "          [\n",
        "            [26,27,28,29,30],\n",
        "            [31,32,33,34,35],\n",
        "            [36,37,38,39,40],\n",
        "            [41,42,43,44,45],\n",
        "            [46,47,48,49,50]\n",
        "          ],\n",
        "        ],\n",
        "        [\n",
        "          [\n",
        "            [51,52,53,54,55],\n",
        "            [56,57,58,59,60],\n",
        "            [61,62,63,64,65],\n",
        "            [66,67,68,69,70],\n",
        "            [71,72,73,74,75]\n",
        "          ],\n",
        "          [\n",
        "            [76,77,78,79,80],\n",
        "            [81,82,83,84,85],\n",
        "            [86,87,88,89,90],\n",
        "            [91,92,93,94,95],\n",
        "            [96,97,98,99,100]\n",
        "          ]\n",
        "         ],\n",
        "         [\n",
        "          [\n",
        "            [51,52,53,54,55],\n",
        "            [56,57,58,59,60],\n",
        "            [61,62,63,64,65],\n",
        "            [66,67,68,69,70],\n",
        "            [71,72,73,74,75]\n",
        "          ],\n",
        "          [\n",
        "            [76,77,78,79,80],\n",
        "            [81,82,83,84,85],\n",
        "            [86,87,88,89,90],\n",
        "            [91,92,93,94,95],\n",
        "            [96,97,98,99,100]\n",
        "          ]\n",
        "        ],\n",
        "        [\n",
        "          [\n",
        "            [51,52,53,54,55],\n",
        "            [56,57,58,59,60],\n",
        "            [61,62,63,64,65],\n",
        "            [66,67,68,69,70],\n",
        "            [71,72,73,74,75]\n",
        "          ],\n",
        "          [\n",
        "            [76,77,78,79,80],\n",
        "            [81,82,83,84,85],\n",
        "            [86,87,88,89,90],\n",
        "            [91,92,93,94,95],\n",
        "            [96,97,98,99,100]\n",
        "          ]\n",
        "        ],\n",
        "        [\n",
        "          [\n",
        "            [51,52,53,54,55],\n",
        "            [56,57,58,59,60],\n",
        "            [61,62,63,64,65],\n",
        "            [66,67,68,69,70],\n",
        "            [71,72,73,74,75]\n",
        "          ],\n",
        "          [\n",
        "            [76,77,78,79,80],\n",
        "            [81,82,83,84,85],\n",
        "            [86,87,88,89,90],\n",
        "            [91,92,93,94,95],\n",
        "            [96,97,98,99,100]\n",
        "          ]\n",
        "        ],\n",
        "        [\n",
        "          [\n",
        "            [51,52,53,54,55],\n",
        "            [56,57,58,59,60],\n",
        "            [61,62,63,64,65],\n",
        "            [66,67,68,69,70],\n",
        "            [71,72,73,74,75]\n",
        "          ],\n",
        "          [\n",
        "            [76,77,78,79,80],\n",
        "            [81,82,83,84,85],\n",
        "            [86,87,88,89,90],\n",
        "            [91,92,93,94,95],\n",
        "            [96,97,98,99,100]\n",
        "          ]\n",
        "        ],\n",
        "    ]\n",
        ")\n",
        "\n",
        "fourD.ndim"
      ],
      "metadata": {
        "colab": {
          "base_uri": "https://localhost:8080/"
        },
        "id": "jU2KCOhQguPW",
        "outputId": "06eae37e-0ba9-4600-8bf3-55291ff6bf56"
      },
      "execution_count": 60,
      "outputs": [
        {
          "output_type": "execute_result",
          "data": {
            "text/plain": [
              "4"
            ]
          },
          "metadata": {},
          "execution_count": 60
        }
      ]
    }
  ]
}